{
 "cells": [
  {
   "cell_type": "code",
   "execution_count": 212,
   "metadata": {},
   "outputs": [],
   "source": [
    "import spacy\n",
    "import os"
   ]
  },
  {
   "cell_type": "code",
   "execution_count": 213,
   "metadata": {},
   "outputs": [],
   "source": [
    "def check_word_validity(word):\n",
    "    if word.is_alpha and word.text.lower() not in nlp.Defaults.stop_words:\n",
    "        return True\n",
    "    else:\n",
    "        return False\n",
    "    \n",
    "\n",
    "def extract_sample_from_file(file_name, character_count, start_position=0):\n",
    "    possible_encodings = ['utf-8', 'latin-1', 'windows-1252']\n",
    "\n",
    "    for encoding in possible_encodings:\n",
    "        try:\n",
    "            with open(file_name, 'r', encoding=encoding) as f:\n",
    "                f.seek(start_position)\n",
    "                text = f.read(character_count)\n",
    "            doc = nlp(text)\n",
    "\n",
    "            # Check and remove the first token if it's not a valid word\n",
    "            while doc and not check_word_validity(doc[0]):\n",
    "                doc = doc[1:]\n",
    "\n",
    "            # Check and remove the last token if it's not a valid word\n",
    "            while doc and not check_word_validity(doc[-1]):\n",
    "                doc = doc[:-1]\n",
    "            return doc\n",
    "        except UnicodeDecodeError:\n",
    "            continue"
   ]
  },
  {
   "cell_type": "code",
   "execution_count": 214,
   "metadata": {},
   "outputs": [],
   "source": [
    "nlp = spacy.load('en_core_web_md')\n",
    "#  You read a small  extract of the file sherlock_homes.txt\n",
    "sherlock_homes_sample = extract_sample_from_file(os.path.join(\"data\",\"sherlock_homes.txt\"), character_count=50000)\n",
    "# take a small extraact from the file social_new_orleans.txt\n",
    "social_new_orleans_sample = extract_sample_from_file(os.path.join(\"data\",\"social_new_orleans.txt\"), character_count=50000)\n",
    "# take a small extraact from the file the_lindsays.txt\n",
    "the_lindsays_sample = extract_sample_from_file(os.path.join(\"data\",\"the_lindsays.txt\"), character_count=50000)"
   ]
  },
  {
   "cell_type": "code",
   "execution_count": 215,
   "metadata": {},
   "outputs": [
    {
     "name": "stdout",
     "output_type": "stream",
     "text": [
      "Sherlock Homes sample contains 11659 tokens\n",
      "Social New Orleans sample contains 10806 tokens\n",
      "The Lindsays sample contains 11363 tokens\n"
     ]
    }
   ],
   "source": [
    "# print the number of tokens in each sample\n",
    "print(\"Sherlock Homes sample contains {} tokens\".format(len(sherlock_homes_sample)))\n",
    "print(\"Social New Orleans sample contains {} tokens\".format(len(social_new_orleans_sample)))\n",
    "print(\"The Lindsays sample contains {} tokens\".format(len(the_lindsays_sample)))\n"
   ]
  },
  {
   "cell_type": "code",
   "execution_count": 216,
   "metadata": {},
   "outputs": [
    {
     "name": "stdout",
     "output_type": "stream",
     "text": [
      "Similarity between sherlock_homes_sample and social_new_orleans_sample\n",
      "0.9631285667419434\n"
     ]
    }
   ],
   "source": [
    "# compare the similarity of the sherlock_homes_sample with the social_new_orleans_sample\n",
    "print(\"Similarity between sherlock_homes_sample and social_new_orleans_sample\")\n",
    "print(sherlock_homes_sample.similarity(social_new_orleans_sample))\n",
    "\n"
   ]
  },
  {
   "cell_type": "code",
   "execution_count": 217,
   "metadata": {},
   "outputs": [
    {
     "name": "stdout",
     "output_type": "stream",
     "text": [
      "Similarity between sherlock_homes_sample and the_lindsays_sample\n",
      "0.9683560132980347\n"
     ]
    }
   ],
   "source": [
    "# compare the similarity of the sherlock_homes_sample with the the_lindsays_sample\n",
    "print(\"Similarity between sherlock_homes_sample and the_lindsays_sample\")\n",
    "print(sherlock_homes_sample.similarity(the_lindsays_sample))"
   ]
  },
  {
   "cell_type": "code",
   "execution_count": 218,
   "metadata": {},
   "outputs": [
    {
     "name": "stdout",
     "output_type": "stream",
     "text": [
      "Similarity between social_new_orleans_sample and the_lindsays_sample\n",
      "0.9912957549095154\n"
     ]
    }
   ],
   "source": [
    "# compare the similarity of the social_new_orleans_sample with the the_lindsays_sample\n",
    "print(\"Similarity between social_new_orleans_sample and the_lindsays_sample\")\n",
    "print(social_new_orleans_sample.similarity(the_lindsays_sample))"
   ]
  },
  {
   "cell_type": "code",
   "execution_count": 219,
   "metadata": {},
   "outputs": [
    {
     "name": "stdout",
     "output_type": "stream",
     "text": [
      "Similarity between first_100_tokens_sherlock_homes_sample and first_100_tokens_social_new_orleans_sample\n",
      "0.9248727560043335\n"
     ]
    }
   ],
   "source": [
    "# Compare also the first 100 tokens of each document with each other.\n",
    "first_100_tokens_sherlock_homes_sample = sherlock_homes_sample[:100]\n",
    "first_100_tokens_social_new_orleans_sample = social_new_orleans_sample[:100]\n",
    "print(\"Similarity between first_100_tokens_sherlock_homes_sample and first_100_tokens_social_new_orleans_sample\")\n",
    "print(first_100_tokens_sherlock_homes_sample.similarity(first_100_tokens_social_new_orleans_sample))"
   ]
  },
  {
   "cell_type": "code",
   "execution_count": 220,
   "metadata": {},
   "outputs": [
    {
     "name": "stdout",
     "output_type": "stream",
     "text": [
      "Similarity between first_100_tokens_sherlock_homes_sample and first_100_tokens_the_lindsays_sample\n",
      "0.9262186884880066\n"
     ]
    }
   ],
   "source": [
    "first_100_tokens_sherlock_homes_sample = sherlock_homes_sample[:100]\n",
    "first_100_tokens_the_lindsays_sample = the_lindsays_sample[:100]\n",
    "print(\"Similarity between first_100_tokens_sherlock_homes_sample and first_100_tokens_the_lindsays_sample\")\n",
    "print(first_100_tokens_sherlock_homes_sample.similarity(first_100_tokens_the_lindsays_sample))"
   ]
  },
  {
   "cell_type": "code",
   "execution_count": 221,
   "metadata": {},
   "outputs": [
    {
     "name": "stdout",
     "output_type": "stream",
     "text": [
      "Similarity between first_100_tokens_social_new_orleans_sample and first_100_tokens_the_lindsays_sample\n",
      "0.9873891472816467\n"
     ]
    }
   ],
   "source": [
    "first_100_tokens_social_new_orleans_sample = social_new_orleans_sample[:100]\n",
    "first_100_tokens_the_lindsays_sample = the_lindsays_sample[:100]\n",
    "print(\"Similarity between first_100_tokens_social_new_orleans_sample and first_100_tokens_the_lindsays_sample\")\n",
    "print(first_100_tokens_social_new_orleans_sample.similarity(first_100_tokens_the_lindsays_sample))"
   ]
  },
  {
   "cell_type": "code",
   "execution_count": 226,
   "metadata": {},
   "outputs": [
    {
     "ename": "NameError",
     "evalue": "name 'GoldParse' is not defined",
     "output_type": "error",
     "traceback": [
      "\u001b[1;31m---------------------------------------------------------------------------\u001b[0m",
      "\u001b[1;31mNameError\u001b[0m                                 Traceback (most recent call last)",
      "Cell \u001b[1;32mIn[226], line 26\u001b[0m\n\u001b[0;32m     24\u001b[0m \u001b[38;5;66;03m# Update the model with the training data\u001b[39;00m\n\u001b[0;32m     25\u001b[0m gold_dict \u001b[38;5;241m=\u001b[39m {\u001b[38;5;124m\"\u001b[39m\u001b[38;5;124mentities\u001b[39m\u001b[38;5;124m\"\u001b[39m: [(start_index, end_index, \u001b[38;5;124m\"\u001b[39m\u001b[38;5;124mPERSON\u001b[39m\u001b[38;5;124m\"\u001b[39m)]}\n\u001b[1;32m---> 26\u001b[0m gold \u001b[38;5;241m=\u001b[39m \u001b[43mGoldParse\u001b[49m(doc, \u001b[38;5;241m*\u001b[39m\u001b[38;5;241m*\u001b[39mgold_dict)\n\u001b[0;32m     27\u001b[0m nlp\u001b[38;5;241m.\u001b[39mupdate([doc], [gold])\n\u001b[0;32m     29\u001b[0m \u001b[38;5;66;03m# Test the model\u001b[39;00m\n",
      "\u001b[1;31mNameError\u001b[0m: name 'GoldParse' is not defined"
     ]
    }
   ],
   "source": [
    "import spacy\n",
    "from spacy.tokens import Doc, Span, Token, \n",
    "from spacy.training import Example\n",
    "\n",
    "# Load a blank English model\n",
    "nlp = spacy.blank(\"en\")\n",
    "\n",
    "# Add a new entity label for 'PERSON'\n",
    "ner = nlp.add_pipe('ner')\n",
    "ner.add_label(\"PERSON\")\n",
    "\n",
    "name_to_add = \"Paul Ashioya\"\n",
    "\n",
    "# Create a Doc object with the name\n",
    "doc = nlp.make_doc(f\"My name is not {name_to_add}\")\n",
    "\n",
    "# Create a Span for the 'PERSON' entity\n",
    "start_index = doc.text.find(name_to_add)\n",
    "end_index = start_index + len(name_to_add)\n",
    "# TODO: Replace 4,6 with the index of the TOKENS for the name not the characters \n",
    "person_span = Span(doc, 4, 6, label=\"PERSON\")\n",
    "\n",
    "# Set the 'PERSON' entity on the Doc\n",
    "doc.ents = [person_span]\n",
    "\n",
    "# Update the model with the training data\n",
    "gold_dict = {\"entities\": [(start_index, end_index, \"PERSON\")]}\n",
    "gold = GoldParse(doc, **gold_dict)\n",
    "nlp.update([doc], [gold])\n",
    "\n",
    "# Test the model\n",
    "text_to_test = \"My name is Paul Ashioya.\"\n",
    "doc_test = nlp(text_to_test)\n",
    "\n",
    "# Display entities in the test document\n",
    "for ent in doc_test.ents:\n",
    "    print(f\"Entity: {ent.text}, Label: {ent.label_}\")"
   ]
  }
 ],
 "metadata": {
  "kernelspec": {
   "display_name": ".venv",
   "language": "python",
   "name": "python3"
  },
  "language_info": {
   "codemirror_mode": {
    "name": "ipython",
    "version": 3
   },
   "file_extension": ".py",
   "mimetype": "text/x-python",
   "name": "python",
   "nbconvert_exporter": "python",
   "pygments_lexer": "ipython3",
   "version": "3.11.7"
  }
 },
 "nbformat": 4,
 "nbformat_minor": 2
}
