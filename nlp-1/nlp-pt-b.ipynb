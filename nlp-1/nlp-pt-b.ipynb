{
 "cells": [
  {
   "cell_type": "code",
   "execution_count": 10,
   "metadata": {},
   "outputs": [],
   "source": [
    "import spacy\n",
    "import os"
   ]
  },
  {
   "cell_type": "code",
   "execution_count": 11,
   "metadata": {},
   "outputs": [],
   "source": [
    "def check_word_validity(word):\n",
    "    if word.is_alpha and word.text.lower() not in nlp.Defaults.stop_words:\n",
    "        return True\n",
    "    else:\n",
    "        return False\n",
    "\n",
    "\n",
    "def extract_sample_from_file(file_name, character_count, start_position=0):\n",
    "    possible_encodings = ['utf-8', 'latin-1', 'windows-1252']\n",
    "    unprocessed_text = ''\n",
    "    for encoding in possible_encodings:\n",
    "        try:\n",
    "            with open(file_name, 'r', encoding=encoding) as f:\n",
    "                f.seek(start_position)\n",
    "                text = f.read(character_count)\n",
    "                unprocessed_text += text\n",
    "            doc = nlp(text)\n",
    "            # Check and remove the first token if it's not a valid word\n",
    "            if check_word_validity(doc[0]):\n",
    "                print(doc[0])\n",
    "                doc = doc[1:]\n",
    "\n",
    "            # Check and remove the last token if it's not a valid word\n",
    "            if check_word_validity(doc[-1]):\n",
    "                doc = doc[:-1]\n",
    "            return doc, unprocessed_text\n",
    "        except UnicodeDecodeError:\n",
    "            continue"
   ]
  },
  {
   "cell_type": "code",
   "execution_count": 12,
   "metadata": {},
   "outputs": [],
   "source": [
    "nlp = spacy.load('en_core_web_md')\n",
    "#  You read a small  extract of the file sherlock_homes.txt\n",
    "sherlock_homes_sample, unprocessed_sherlock_homes_sample = extract_sample_from_file(os.path.join(\"../data\",\"sherlock_homes.txt\"), character_count=50000)\n",
    "# take a small extraact from the file social_new_orleans.txt\n",
    "social_new_orleans_sample, unprocessed_social_new_orleans_sample = extract_sample_from_file(os.path.join(\"../data\",\"social_new_orleans.txt\"), character_count=50000)\n",
    "# take a small extraact from the file the_lindsays.txt\n",
    "the_lindsays_sample, unprocessed_the_lindsays_sample = extract_sample_from_file(os.path.join(\"../data\",\"the_lindsays.txt\"), character_count=50000)"
   ]
  },
  {
   "cell_type": "code",
   "execution_count": 13,
   "metadata": {},
   "outputs": [
    {
     "name": "stdout",
     "output_type": "stream",
     "text": [
      "Sherlock Homes sample contains 11659 tokens\n",
      "Social New Orleans sample contains 10809 tokens\n",
      "The Lindsays sample contains 11368 tokens\n"
     ]
    }
   ],
   "source": [
    "# print the number of tokens in each sample\n",
    "print(\"Sherlock Homes sample contains {} tokens\".format(len(sherlock_homes_sample)))\n",
    "print(\"Social New Orleans sample contains {} tokens\".format(len(social_new_orleans_sample)))\n",
    "print(\"The Lindsays sample contains {} tokens\".format(len(the_lindsays_sample)))\n"
   ]
  },
  {
   "cell_type": "code",
   "execution_count": 14,
   "metadata": {},
   "outputs": [
    {
     "name": "stdout",
     "output_type": "stream",
     "text": [
      "Similarity between sherlock_homes_sample and social_new_orleans_sample\n",
      "0.9631454517552418\n"
     ]
    }
   ],
   "source": [
    "# compare the similarity of the sherlock_homes_sample with the social_new_orleans_sample\n",
    "print(\"Similarity between sherlock_homes_sample and social_new_orleans_sample\")\n",
    "print(sherlock_homes_sample.similarity(social_new_orleans_sample))\n",
    "\n"
   ]
  },
  {
   "cell_type": "code",
   "execution_count": 15,
   "metadata": {},
   "outputs": [
    {
     "name": "stdout",
     "output_type": "stream",
     "text": [
      "Similarity between sherlock_homes_sample and the_lindsays_sample\n",
      "0.9683116425927687\n"
     ]
    }
   ],
   "source": [
    "# compare the similarity of the sherlock_homes_sample with the the_lindsays_sample\n",
    "print(\"Similarity between sherlock_homes_sample and the_lindsays_sample\")\n",
    "print(sherlock_homes_sample.similarity(the_lindsays_sample))"
   ]
  },
  {
   "cell_type": "code",
   "execution_count": 16,
   "metadata": {},
   "outputs": [
    {
     "name": "stdout",
     "output_type": "stream",
     "text": [
      "Similarity between social_new_orleans_sample and the_lindsays_sample\n",
      "0.9913071096044772\n"
     ]
    }
   ],
   "source": [
    "# compare the similarity of the social_new_orleans_sample with the the_lindsays_sample\n",
    "print(\"Similarity between social_new_orleans_sample and the_lindsays_sample\")\n",
    "print(social_new_orleans_sample.similarity(the_lindsays_sample))"
   ]
  },
  {
   "cell_type": "code",
   "execution_count": 17,
   "metadata": {},
   "outputs": [
    {
     "name": "stdout",
     "output_type": "stream",
     "text": [
      "Similarity between first_100_tokens_sherlock_homes_sample and first_100_tokens_social_new_orleans_sample\n",
      "0.9264501929283142\n"
     ]
    }
   ],
   "source": [
    "# Compare also the first 100 tokens of each document with each other.\n",
    "first_100_tokens_sherlock_homes_sample = sherlock_homes_sample[:100]\n",
    "first_100_tokens_social_new_orleans_sample = social_new_orleans_sample[:100]\n",
    "print(\"Similarity between first_100_tokens_sherlock_homes_sample and first_100_tokens_social_new_orleans_sample\")\n",
    "print(first_100_tokens_sherlock_homes_sample.similarity(first_100_tokens_social_new_orleans_sample))"
   ]
  },
  {
   "cell_type": "code",
   "execution_count": 18,
   "metadata": {},
   "outputs": [
    {
     "name": "stdout",
     "output_type": "stream",
     "text": [
      "Similarity between first_100_tokens_sherlock_homes_sample and first_100_tokens_the_lindsays_sample\n",
      "0.9284713268280029\n"
     ]
    }
   ],
   "source": [
    "first_100_tokens_sherlock_homes_sample = sherlock_homes_sample[:100]\n",
    "first_100_tokens_the_lindsays_sample = the_lindsays_sample[:100]\n",
    "print(\"Similarity between first_100_tokens_sherlock_homes_sample and first_100_tokens_the_lindsays_sample\")\n",
    "print(first_100_tokens_sherlock_homes_sample.similarity(first_100_tokens_the_lindsays_sample))"
   ]
  },
  {
   "cell_type": "code",
   "execution_count": 19,
   "metadata": {},
   "outputs": [
    {
     "name": "stdout",
     "output_type": "stream",
     "text": [
      "Similarity between first_100_tokens_social_new_orleans_sample and first_100_tokens_the_lindsays_sample\n",
      "0.9858769178390503\n"
     ]
    }
   ],
   "source": [
    "first_100_tokens_social_new_orleans_sample = social_new_orleans_sample[:100]\n",
    "first_100_tokens_the_lindsays_sample = the_lindsays_sample[:100]\n",
    "print(\"Similarity between first_100_tokens_social_new_orleans_sample and first_100_tokens_the_lindsays_sample\")\n",
    "print(first_100_tokens_social_new_orleans_sample.similarity(first_100_tokens_the_lindsays_sample))"
   ]
  },
  {
   "cell_type": "code",
   "execution_count": 20,
   "metadata": {},
   "outputs": [],
   "source": [
    "def get_token_index_from_character_index(doc, character_index):\n",
    "    for token in doc:\n",
    "        if character_index >= token.idx and character_index < token.idx + len(token):\n",
    "            return token.i\n",
    "    return None"
   ]
  },
  {
   "cell_type": "code",
   "execution_count": 21,
   "metadata": {},
   "outputs": [
    {
     "name": "stdout",
     "output_type": "stream",
     "text": [
      "[('Paul Chiteri Ashioya', 'PERSON')]\n"
     ]
    }
   ],
   "source": [
    "import spacy\n",
    "from spacy.tokens import  Span\n",
    "\n",
    "# Load a blank English model\n",
    "nlp = spacy.blank(\"en\")\n",
    "\n",
    "# Add a new entity label for 'PERSON'\n",
    "# ner = nlp.add_pipe('ner')\n",
    "# ner.add_label(\"PERSON\")\n",
    "\n",
    "name = \"Paul Chiteri Ashioya\"\n",
    "\n",
    "# Create a Doc object with the name\n",
    "doc = nlp.make_doc(f\"My name is not {name}\")\n",
    "\n",
    "# Create a Span for the 'PERSON' entity\n",
    "start_index = doc.text.find(name)\n",
    "\n",
    "token_index = get_token_index_from_character_index(doc, start_index)\n",
    "\n",
    "person_span = Span(doc, token_index, (token_index + len(name.split())), label=\"PERSON\")\n",
    "\n",
    "# Set the 'PERSON' entity on the Doc\n",
    "doc.ents = [person_span]\n",
    "\n",
    "# Print the Person entities in the document\n",
    "print([(ent.text, ent.label_) for ent in doc.ents if ent.label_ == \"PERSON\"])\n"
   ]
  }
 ],
 "metadata": {
  "kernelspec": {
   "display_name": ".venv",
   "language": "python",
   "name": "python3"
  },
  "language_info": {
   "codemirror_mode": {
    "name": "ipython",
    "version": 3
   },
   "file_extension": ".py",
   "mimetype": "text/x-python",
   "name": "python",
   "nbconvert_exporter": "python",
   "pygments_lexer": "ipython3",
   "version": "3.11.7"
  }
 },
 "nbformat": 4,
 "nbformat_minor": 2
}
