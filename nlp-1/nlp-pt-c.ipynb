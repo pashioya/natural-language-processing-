{
 "cells": [
  {
   "cell_type": "code",
   "execution_count": 56,
   "metadata": {},
   "outputs": [],
   "source": [
    "import spacy"
   ]
  },
  {
   "cell_type": "code",
   "execution_count": 57,
   "metadata": {},
   "outputs": [
    {
     "name": "stdout",
     "output_type": "stream",
     "text": [
      "['tok2vec', 'tagger', 'parser', 'attribute_ruler', 'lemmatizer', 'ner']\n"
     ]
    }
   ],
   "source": [
    "nlp = spacy.load('en_core_web_sm')\n",
    "\n",
    "\n",
    "# print the name of the pipeline components\n",
    "print(nlp.pipe_names)\n"
   ]
  },
  {
   "cell_type": "code",
   "execution_count": 59,
   "metadata": {},
   "outputs": [
    {
     "name": "stdout",
     "output_type": "stream",
     "text": [
      "sentence\n",
      "longest_token: sentence\n",
      "['tok2vec', 'tagger', 'parser', 'attribute_ruler', 'lemmatizer', 'ner', 'print_longest_token']\n"
     ]
    }
   ],
   "source": [
    "@spacy.Language.component(\"print_longest_token\")\n",
    "def print_longest_token_component(doc):\n",
    "    # Get the token with the longest text\n",
    "    longest_token = max(doc, key=lambda token: len(token.text))\n",
    "    doc._.set(\"longest_token\", longest_token.text)\n",
    "    print(longest_token.text)\n",
    "    return doc\n",
    "\n",
    "\n",
    "\n",
    "spacy.tokens.Doc.set_extension(\"longest_token\", default=None, force=True)\n",
    "\n",
    "nlp.add_pipe(\"print_longest_token\", last=True)\n",
    "\n",
    "doc = nlp(\"This is a sample sentence.\")\n",
    "\n",
    "print(\"longest_token:\", doc._.longest_token)\n",
    "\n",
    "print(nlp.pipe_names)\n"
   ]
  }
 ],
 "metadata": {
  "kernelspec": {
   "display_name": ".venv",
   "language": "python",
   "name": "python3"
  },
  "language_info": {
   "codemirror_mode": {
    "name": "ipython",
    "version": 3
   },
   "file_extension": ".py",
   "mimetype": "text/x-python",
   "name": "python",
   "nbconvert_exporter": "python",
   "pygments_lexer": "ipython3",
   "version": "3.11.7"
  }
 },
 "nbformat": 4,
 "nbformat_minor": 2
}
